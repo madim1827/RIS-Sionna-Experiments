{
 "cells": [
  {
   "cell_type": "markdown",
   "id": "8d6f53b4-82d0-4464-a28d-b60247d5ac29",
   "metadata": {},
   "source": [
    "# Single RIS Experiment "
   ]
  },
  {
   "cell_type": "markdown",
   "id": "085dca1d-a9d9-49c0-8f3c-5722873e3c72",
   "metadata": {},
   "source": [
    "## 🔧 Import Required Libraries\n",
    "We start by importing Python libraries for:\n",
    "- **Numerics & plotting**: NumPy, Matplotlib.\n",
    "- **Sionna RT**: Scene loading, antenna arrays, Tx/Rx setup.\n",
    "- **TensorFlow**: Signal computations.\n",
    "- **SciPy**: Interpolation for antenna patterns.\n"
   ]
  },
  {
   "cell_type": "code",
   "execution_count": null,
   "id": "dabd7915-7806-4b88-a5f0-07ce9170bbb4",
   "metadata": {},
   "outputs": [],
   "source": [
    "%matplotlib inline\n",
    "import matplotlib.pyplot as plt\n",
    "import numpy as np\n",
    "import time\n",
    "from pathlib import Path \n",
    "\n",
    "# Import Sionna RT components\n",
    "from sionna.rt import load_scene, Transmitter, Receiver, PlanarArray, Camera, RadioMaterial, RIS\n",
    "import tensorflow as tf\n",
    "\n",
    "# For link-level simulations\n",
    "from sionna.channel import cir_to_ofdm_channel, subcarrier_frequencies, OFDMChannel, ApplyOFDMChannel, CIRDataset\n",
    "from sionna.nr import PUSCHConfig, PUSCHTransmitter, PUSCHReceiver\n",
    "from sionna.utils import compute_ber, ebnodb2no, PlotBER\n",
    "from sionna.ofdm import KBestDetector, LinearDetector\n",
    "from sionna.mimo import StreamManagement\n",
    "from scipy.interpolate import RegularGridInterpolator\n"
   ]
  },
  {
   "cell_type": "markdown",
   "id": "e79b8aba-bcfb-445b-9c6f-6e00adfd6f08",
   "metadata": {},
   "source": [
    "## Load Scene and Define Materials\n",
    "We load the lab scene (`lab5.xml`) and update its walls with **ITU-based concrete properties**.\n",
    "A custom `RadioMaterial` is defined with frequency-dependent permittivity and conductivity.\n"
   ]
  },
  {
   "cell_type": "code",
   "execution_count": null,
   "id": "a1c78278-f91c-4c69-b175-d0be61f01bed",
   "metadata": {},
   "outputs": [],
   "source": [
    "def concrete_update(frequency_hz):\n",
    "    f_ghz = frequency_hz / 1e9\n",
    "    eps_r = 5.24  # Standard concrete permittivity\n",
    "    sigma_nominal = 0.0462 * tf.pow(f_ghz, 0.7822)\n",
    "    thickness_scale = 1.0 / 0.1  # 1 meter / 0.1 meter default\n",
    "    sigma_adjusted = sigma_nominal * thickness_scale\n",
    "    return eps_r, sigma_adjusted\n",
    "\n",
    "scene = load_scene(\"lab5.xml\")\n",
    "scene.frequency = 28e9  # Hz\n",
    "\n",
    "# Apply updated concrete material\n",
    "concrete = RadioMaterial(name=\"itu_concrete_manual\",\n",
    "                         frequency_update_callback=concrete_update)\n",
    "scene.add(concrete)\n",
    "\n",
    "obj = scene.get(\"lab5_flipped\")\n",
    "obj.radio_material = concrete\n",
    "\n",
    "scene.preview()\n"
   ]
  },
  {
   "cell_type": "markdown",
   "id": "4a282825-5ad5-438a-ac35-274a98d2a06c",
   "metadata": {},
   "source": [
    "## Load Horn Antenna Pattern from `.uan` File\n",
    "We define helper functions to:\n",
    "1. Parse `.uan` files.\n",
    "2. Interpolate radiation patterns.\n",
    "3. Return a callable pattern compatible with Sionna.\n"
   ]
  },
  {
   "cell_type": "code",
   "execution_count": null,
   "id": "1b990e61-7809-4930-b856-201a4ace5c78",
   "metadata": {},
   "outputs": [],
   "source": [
    "def _read_uan(path):\n",
    "    \"\"\"\n",
    "    Parse Wi-Insight .uan file and return grids + linear gain patterns.\n",
    "    \"\"\"\n",
    "    path = Path(path).expanduser()\n",
    "    lines = [ln.strip() for ln in path.open() if ln.strip()]\n",
    "\n",
    "    # Extract header info\n",
    "    hdr = {}\n",
    "    for ln in lines:\n",
    "        if ln.startswith(\"#\"):\n",
    "            continue\n",
    "        tok = ln.split()\n",
    "        if len(tok) >= 2 and \"_\" in tok[0]:\n",
    "            try:\n",
    "                hdr[tok[0]] = float(tok[1])\n",
    "            except ValueError:\n",
    "                pass\n",
    "\n",
    "    # Define grids\n",
    "    p0, p1, dp = (hdr.get(k, v) for k, v in [(\"phi_min\",0), (\"phi_max\",360), (\"phi_inc\",1)])\n",
    "    t0, t1, dt = (hdr.get(k, v) for k, v in [(\"theta_min\",0), (\"theta_max\",180), (\"theta_inc\",1)])\n",
    "    phi_grid   = np.arange(p0, p1+1e-9, dp)\n",
    "    theta_grid = np.arange(t0, t1+1e-9, dt)\n",
    "\n",
    "    # Parse numeric values\n",
    "    rows = []\n",
    "    for ln in lines:\n",
    "        if ln[0].isdigit() or ln[0] == \"-\":\n",
    "            try:\n",
    "                rows.append(tuple(map(float, ln.split()[:4])))\n",
    "            except ValueError:\n",
    "                continue\n",
    "    rows = np.asarray(rows)\n",
    "    if rows.size == 0:\n",
    "        raise ValueError(\"No numeric rows found in .uan file.\")\n",
    "\n",
    "    theta_vals, phi_vals, Gt_db, Gp_db = rows.T\n",
    "    n_th, n_ph = len(theta_grid), len(phi_grid)\n",
    "    Gt, Gp = np.full((n_th, n_ph), -50.0), np.full((n_th, n_ph), -50.0)\n",
    "\n",
    "    for t, p, gt, gp in zip(theta_vals, phi_vals, Gt_db, Gp_db):\n",
    "        i, j = int(round((t - t0)/dt)), int(round((p - p0)/dp))\n",
    "        if 0 <= i < n_th and 0 <= j < n_ph:\n",
    "            Gt[i, j], Gp[i, j] = gt+20, gp+20\n",
    "\n",
    "    Gt_lin, Gp_lin = 10**(Gt/10), 10**(Gp/10)\n",
    "    return theta_grid, phi_grid, Gt_lin, Gp_lin\n",
    "\n",
    "\n",
    "def make_uan_callable(uan_file, dtype=tf.complex64):\n",
    "    \"\"\"Creates a Sionna-compatible antenna pattern callable from a .uan file.\"\"\"\n",
    "    θg, φg, Gt_lin, Gp_lin = _read_uan(uan_file)\n",
    "    itp_t = RegularGridInterpolator((θg, φg), Gt_lin, bounds_error=False, fill_value=0.0)\n",
    "    itp_p = RegularGridInterpolator((θg, φg), Gp_lin, bounds_error=False, fill_value=0.0)\n",
    "\n",
    "    def pattern(theta, phi):\n",
    "        theta = tf.clip_by_value(theta, 0.0, np.pi)\n",
    "        phi   = tf.math.floormod(phi + np.pi, 2*np.pi) - np.pi\n",
    "        th_deg = (theta * 180.0 / np.pi).numpy().clip(0, 180)\n",
    "        ph_deg = ((phi * 180.0 / np.pi) % 360).numpy()\n",
    "\n",
    "        e_t = np.sqrt(itp_t(np.stack([th_deg, ph_deg], -1)))\n",
    "        e_p = np.sqrt(itp_p(np.stack([th_deg, ph_deg], -1)))\n",
    "\n",
    "        e_t = tf.convert_to_tensor(e_t, dtype=dtype.real_dtype)\n",
    "        e_p = tf.convert_to_tensor(e_p, dtype=dtype.real_dtype)\n",
    "        e_t = tf.where(tf.math.is_finite(e_t), e_t, 0.0)\n",
    "        e_p = tf.where(tf.math.is_finite(e_p), e_p, 0.0)\n",
    "\n",
    "        return tf.complex(e_t, 0.0), tf.complex(e_p, 0.0)\n",
    "\n",
    "    return pattern\n"
   ]
  },
  {
   "cell_type": "markdown",
   "id": "c97d9755-c877-4a8d-81b3-0ac9b80d16eb",
   "metadata": {},
   "source": [
    "## Define Tx and Rx Antennas\n",
    "We use the horn pattern loaded from `.uan` and configure **PlanarArray** objects for\n",
    "both transmitter (Tx) and receiver (Rx).  \n",
    "Each array has:\n",
    "- **1×1 element** (single horn)\n",
    "- **λ/2 spacing** (vertical and horizontal)\n",
    "- **Vertical polarization**\n"
   ]
  },
  {
   "cell_type": "code",
   "execution_count": null,
   "id": "5c192cd7-9a9e-4948-bc4e-17fa7587942a",
   "metadata": {},
   "outputs": [],
   "source": [
    "horn_pat = make_uan_callable(\"horn_WI.uan\")\n",
    "\n",
    "scene.tx_array = PlanarArray(\n",
    "    num_rows=1,\n",
    "    num_cols=1,\n",
    "    vertical_spacing=0.5,   # λ\n",
    "    horizontal_spacing=0.5, # λ\n",
    "    pattern=horn_pat,\n",
    "    polarization=\"V\",\n",
    "    polarization_model=2\n",
    ")\n",
    "\n",
    "scene.rx_array = PlanarArray(\n",
    "    num_rows=1,\n",
    "    num_cols=1,\n",
    "    vertical_spacing=0.5,   # λ\n",
    "    horizontal_spacing=0.5, # λ\n",
    "    pattern=horn_pat,\n",
    "    polarization=\"V\",\n",
    "    polarization_model=2\n",
    ")\n"
   ]
  },
  {
   "cell_type": "markdown",
   "id": "85f4344c-3ba3-4937-87fa-6677c315c42b",
   "metadata": {},
   "source": [
    "## Step 5: Place Tx, Rx, and RIS\n",
    "We configure:\n",
    "- **Tx** at [...]\n",
    "- **Rx** at [...]\n",
    "- **RIS** at [...]\n",
    "\n",
    "The RIS is configured with:\n",
    "- **52×52 elements**\n",
    "- **Focusing lens profile** \n",
    "- **Fixed amplitude profile to calibrate (0.21)**\n"
   ]
  },
  {
   "cell_type": "code",
   "execution_count": null,
   "id": "d4e11f20-1c11-4f92-a1ca-575541fe10c5",
   "metadata": {},
   "outputs": [],
   "source": [
    "tx_pos  = [...] # <-- Define positions\n",
    "ris_pos = [...]\n",
    "rx_pos  = [...]\n",
    "\n",
    "tx = Transmitter(name=\"tx\", position=tx_pos)\n",
    "rx = Receiver(name=\"rx\", position=rx_pos)\n",
    "scene.add(tx)\n",
    "scene.add(rx)\n",
    "\n",
    "ris = RIS(name=\"ris\",\n",
    "          position=ris_pos,\n",
    "          num_rows=52,\n",
    "          num_cols=52)\n",
    "scene.add(ris)\n",
    "\n",
    "# Apply focusing lens profile\n",
    "ris.focusing_lens(tx_pos, rx_pos)\n",
    "\n",
    "# Amplitude profile\n",
    "amp = tf.constant(0.21,\n",
    "                  dtype=ris.amplitude_profile.values.dtype,\n",
    "                  shape=[ris.num_modes, ris.num_rows, ris.num_cols])\n",
    "ris.amplitude_profile.values = amp\n",
    "\n",
    "# Orient devices\n",
    "ris.look_at(rx_pos)\n",
    "tx.look_at(ris_pos)\n",
    "rx.look_at(ris_pos)\n"
   ]
  },
  {
   "cell_type": "markdown",
   "id": "3fb85e05-b37d-4c00-96c2-3145e044e071",
   "metadata": {},
   "source": [
    "## Propagation Path Tracing\n",
    "We compute multi-bounce propagation paths "
   ]
  },
  {
   "cell_type": "code",
   "execution_count": null,
   "id": "e1ed4462-87ca-441f-8a30-e1713c0bfff6",
   "metadata": {},
   "outputs": [],
   "source": [
    "paths_multi = scene.compute_paths(\n",
    "    max_depth=3,\n",
    "    los=False,\n",
    "    diffraction=False,\n",
    "    num_samples=1e6\n",
    ")\n",
    "\n",
    "scene.preview(paths=paths_multi, clip_at=3)\n"
   ]
  },
  {
   "cell_type": "markdown",
   "id": "22e7c69c-8968-484b-9c5b-b0c27baf89b8",
   "metadata": {},
   "source": [
    "## Step 7: Received Power Calculation\n",
    "We define a helper `prx()` function that:\n",
    "1. Extracts channel impulse response (CIR).\n",
    "2. Computes total received power from all paths.\n",
    "3. Converts it to **dBm** scale."
   ]
  },
  {
   "cell_type": "code",
   "execution_count": null,
   "id": "7b8da6f5-0219-4ab5-928b-b5502f6b8a01",
   "metadata": {},
   "outputs": [],
   "source": [
    "def prx(paths, P_tx_W=1.0, extra_loss_dB=0.0):\n",
    "    \"\"\"\n",
    "    Compute received power for the Tx/Rx pair.\n",
    "\n",
    "    Parameters\n",
    "    ----------\n",
    "    paths        : sionna.rt.Paths\n",
    "        Result of scene.compute_paths(...)\n",
    "    P_tx_W       : float\n",
    "        Radiated Tx power in watts (includes horn gain).\n",
    "    extra_loss_dB: float\n",
    "        Additional loss (e.g., cables, connectors). Default = 0 dB.\n",
    "\n",
    "    Returns\n",
    "    -------\n",
    "    Pr_dBm : float\n",
    "        Received power in dBm.\n",
    "    \"\"\"\n",
    "    h, _ = paths.cir()               # (h, τ) tuple\n",
    "    h = h[0, 0, :]                   # complex coeffs\n",
    "    p_w = tf.reduce_sum(tf.abs(h)**2) * P_tx_W\n",
    "    pr_dBm = 10*np.log10(p_w.numpy()*1e3 + 1e-12) - extra_loss_dB\n",
    "    return pr_dBm\n",
    "\n",
    "# Tx power = 100 mW (20 dBm)\n",
    "P_TX_W = 0.1\n",
    "rcs_diff = 0   # RCS difference between reflector models\n",
    "LOSS_DB = 9.5 - rcs_diff\n",
    "\n",
    "p_focus = prx(scene.compute_paths(max_depth=3), P_TX_W, LOSS_DB)\n",
    "print(f\"Focusing lens: {p_focus:.2f} dBm\")\n"
   ]
  },
  {
   "cell_type": "markdown",
   "id": "3675ff11-c850-4a6c-af31-95cfee1946a3",
   "metadata": {},
   "source": [
    "## Inspect RIS Profiles\n",
    "Inspect the RIS **amplitude** and **phase** profiles to confirm correct initialization.\n"
   ]
  },
  {
   "cell_type": "code",
   "execution_count": null,
   "id": "1d844fb1-fd03-4619-8eac-9ca04f20657a",
   "metadata": {},
   "outputs": [],
   "source": [
    "print(ris.amplitude_profile.values)\n",
    "print(ris.phase_profile.values)\n"
   ]
  }
 ],
 "metadata": {
  "kernelspec": {
   "display_name": "Python 3 (ipykernel)",
   "language": "python",
   "name": "python3"
  },
  "language_info": {
   "codemirror_mode": {
    "name": "ipython",
    "version": 3
   },
   "file_extension": ".py",
   "mimetype": "text/x-python",
   "name": "python",
   "nbconvert_exporter": "python",
   "pygments_lexer": "ipython3",
   "version": "3.10.17"
  }
 },
 "nbformat": 4,
 "nbformat_minor": 5
}
